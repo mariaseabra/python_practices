{
 "cells": [
  {
   "cell_type": "code",
   "execution_count": 1,
   "metadata": {},
   "outputs": [],
   "source": [
    "#Listas\n",
    "my_l= [2,4,6,2,4,6,'a','b','c']"
   ]
  },
  {
   "cell_type": "code",
   "execution_count": 2,
   "metadata": {},
   "outputs": [
    {
     "name": "stdout",
     "output_type": "stream",
     "text": [
      "[2, 4, 6, 2, 4, 6, 'a', 'b', 'c']\n"
     ]
    }
   ],
   "source": [
    "print(my_l)"
   ]
  },
  {
   "cell_type": "code",
   "execution_count": 3,
   "metadata": {},
   "outputs": [],
   "source": [
    "my_l.append(5)"
   ]
  },
  {
   "cell_type": "code",
   "execution_count": 4,
   "metadata": {},
   "outputs": [
    {
     "name": "stdout",
     "output_type": "stream",
     "text": [
      "[2, 4, 6, 2, 4, 6, 'a', 'b', 'c', 5]\n"
     ]
    }
   ],
   "source": [
    "print(my_l)"
   ]
  },
  {
   "cell_type": "code",
   "execution_count": 6,
   "metadata": {},
   "outputs": [
    {
     "name": "stdout",
     "output_type": "stream",
     "text": [
      "[2, 4, 6, 2, 4, 6, 'a', 'b', 'c', 5] 10\n"
     ]
    }
   ],
   "source": [
    "print(my_l,len(my_l))"
   ]
  },
  {
   "cell_type": "code",
   "execution_count": 7,
   "metadata": {},
   "outputs": [
    {
     "name": "stdout",
     "output_type": "stream",
     "text": [
      "2\n"
     ]
    }
   ],
   "source": [
    "print(my_l.count('a')) #número de vezes que determinado elemento aparece na lista"
   ]
  },
  {
   "cell_type": "code",
   "execution_count": 8,
   "metadata": {},
   "outputs": [],
   "source": [
    "my_l.insert(3,'XXX')"
   ]
  },
  {
   "cell_type": "code",
   "execution_count": 9,
   "metadata": {},
   "outputs": [
    {
     "name": "stdout",
     "output_type": "stream",
     "text": [
      "[2, 4, 6, 'XXX', 2, 4, 6, 'a', 'b', 'c', 5]\n"
     ]
    }
   ],
   "source": [
    "print(my_l) # todas as indexações começam em 0!\n",
    "            # portanto o novo elemento ficará na quarta posição"
   ]
  },
  {
   "cell_type": "code",
   "execution_count": 10,
   "metadata": {},
   "outputs": [
    {
     "data": {
      "text/plain": [
       "['XXX', 2]"
      ]
     },
     "execution_count": 10,
     "metadata": {},
     "output_type": "execute_result"
    }
   ],
   "source": [
    "my_l[3 : 5] # resulta as posições 3 e 4"
   ]
  },
  {
   "cell_type": "code",
   "execution_count": 11,
   "metadata": {},
   "outputs": [
    {
     "data": {
      "text/plain": [
       "'XXX'"
      ]
     },
     "execution_count": 11,
     "metadata": {},
     "output_type": "execute_result"
    }
   ],
   "source": [
    "my_l[3]"
   ]
  },
  {
   "cell_type": "code",
   "execution_count": 12,
   "metadata": {},
   "outputs": [],
   "source": [
    "my_l[3] = 'YYY'"
   ]
  },
  {
   "cell_type": "code",
   "execution_count": 13,
   "metadata": {},
   "outputs": [
    {
     "data": {
      "text/plain": [
       "[2, 4, 6, 'YYY', 2, 4, 6, 'a', 'b', 'c', 5]"
      ]
     },
     "execution_count": 13,
     "metadata": {},
     "output_type": "execute_result"
    }
   ],
   "source": [
    "my_l"
   ]
  },
  {
   "cell_type": "code",
   "execution_count": 19,
   "metadata": {},
   "outputs": [],
   "source": [
    "my_l2= [1,2,3,4]"
   ]
  },
  {
   "cell_type": "code",
   "execution_count": 16,
   "metadata": {},
   "outputs": [],
   "source": [
    "my_l.sort() #ascendente\n",
    "my_l2.sort(reverse=True) #descendente"
   ]
  },
  {
   "cell_type": "code",
   "execution_count": 17,
   "metadata": {},
   "outputs": [
    {
     "data": {
      "text/plain": [
       "[4, 3, 2, 1]"
      ]
     },
     "execution_count": 17,
     "metadata": {},
     "output_type": "execute_result"
    }
   ],
   "source": [
    "my_l2"
   ]
  },
  {
   "cell_type": "code",
   "execution_count": 18,
   "metadata": {},
   "outputs": [
    {
     "name": "stdout",
     "output_type": "stream",
     "text": [
      "[4, 3, 2]\n",
      "1\n"
     ]
    }
   ],
   "source": [
    "x = my_l2.pop() #retira o último elemento da lista e atribui à variável x\n",
    "print(my_l2)\n",
    "print(x)"
   ]
  },
  {
   "cell_type": "code",
   "execution_count": 20,
   "metadata": {},
   "outputs": [
    {
     "data": {
      "text/plain": [
       "[1, 2, 3, 4]"
      ]
     },
     "execution_count": 20,
     "metadata": {},
     "output_type": "execute_result"
    }
   ],
   "source": [
    "my_l2"
   ]
  },
  {
   "cell_type": "code",
   "execution_count": 21,
   "metadata": {},
   "outputs": [
    {
     "data": {
      "text/plain": [
       "[4, 3, 2, 1]"
      ]
     },
     "execution_count": 21,
     "metadata": {},
     "output_type": "execute_result"
    }
   ],
   "source": [
    "my_l2[: : -1] #mostra a lista invertida, mas não a altera realmente"
   ]
  },
  {
   "cell_type": "code",
   "execution_count": 22,
   "metadata": {},
   "outputs": [
    {
     "name": "stdout",
     "output_type": "stream",
     "text": [
      "[4, 3, 2, 1]\n",
      "[1, 2, 3, 4]\n",
      "[4, 3, 2, 1]\n"
     ]
    }
   ],
   "source": [
    "print(my_l2[::-1])\n",
    "print(my_l2)\n",
    "my_l2.reverse()\n",
    "print(my_l2)"
   ]
  },
  {
   "cell_type": "code",
   "execution_count": 30,
   "metadata": {},
   "outputs": [],
   "source": [
    "l3= [[1,2,3], ['a','b','c'], [100,200,300]]"
   ]
  },
  {
   "cell_type": "code",
   "execution_count": 32,
   "metadata": {},
   "outputs": [
    {
     "name": "stdout",
     "output_type": "stream",
     "text": [
      "[[100, 200, 300], ['a', 'b', 'c'], [1, 2, 3]]\n",
      "[[1, 2, 3], ['a', 'b', 'c'], [100, 200, 300]]\n",
      "[[1, 2, 3], ['a', 'b', 'c'], [100, 200, 300]]\n"
     ]
    }
   ],
   "source": [
    "print(l3[::-1])\n",
    "print(l3)\n",
    "l3.reverse\n",
    "print(l3)"
   ]
  },
  {
   "cell_type": "code",
   "execution_count": 33,
   "metadata": {},
   "outputs": [
    {
     "name": "stdout",
     "output_type": "stream",
     "text": [
      "[[1, 2, 3], ['a', 'b', 'c'], [100, 200, 300]]\n",
      "[300, 200, 100]\n"
     ]
    }
   ],
   "source": [
    "print(l3)\n",
    "print(l3[2][::-1])"
   ]
  },
  {
   "cell_type": "code",
   "execution_count": 34,
   "metadata": {},
   "outputs": [],
   "source": [
    "t=(1,2,3,4,2,3,4,5)"
   ]
  },
  {
   "cell_type": "code",
   "execution_count": 36,
   "metadata": {},
   "outputs": [
    {
     "data": {
      "text/plain": [
       "(3, 2, 4)"
      ]
     },
     "execution_count": 36,
     "metadata": {},
     "output_type": "execute_result"
    }
   ],
   "source": [
    "#Túplos\n",
    "t[3:5]\n",
    "t[5:2:-1]\n",
    "t[::-1]"
   ]
  },
  {
   "cell_type": "code",
   "execution_count": null,
   "metadata": {},
   "outputs": [],
   "source": [
    "#Conjuntos/Sets\n"
   ]
  },
  {
   "cell_type": "code",
   "execution_count": 42,
   "metadata": {},
   "outputs": [],
   "source": [
    "l4=[1,3,2,3,4,3,2,3,4,5, 'a', 'b', 'c', 'a', 'b']\n",
    "s4={1,3,2,3,4,3,2,3,4,5, 'a', 'b', 'c', 'a', 'b'}"
   ]
  },
  {
   "cell_type": "code",
   "execution_count": 44,
   "metadata": {},
   "outputs": [
    {
     "name": "stdout",
     "output_type": "stream",
     "text": [
      "[1, 3, 2, 3, 4, 3, 2, 3, 4, 5, 'a', 'b', 'c', 'a', 'b']\n",
      "{1, 2, 3, 4, 5, 'a', 'b', 'c'}\n"
     ]
    }
   ],
   "source": [
    "print(l4)\n",
    "print(s4) #elimina as repetições"
   ]
  },
  {
   "cell_type": "code",
   "execution_count": 45,
   "metadata": {},
   "outputs": [],
   "source": [
    "pares={0,2,4,6,8,10,12,14,16,18,20}\n",
    "impares={1,3,5,7,9,11,13,15,17,19}\n",
    "primos={1,2,3,5,7,11,13,17,19}"
   ]
  },
  {
   "cell_type": "code",
   "execution_count": 46,
   "metadata": {},
   "outputs": [
    {
     "name": "stdout",
     "output_type": "stream",
     "text": [
      "{2}\n"
     ]
    }
   ],
   "source": [
    "print(pares.intersection(primos)) #pares que são primos"
   ]
  },
  {
   "cell_type": "code",
   "execution_count": 48,
   "metadata": {},
   "outputs": [
    {
     "name": "stdout",
     "output_type": "stream",
     "text": [
      "{2}\n"
     ]
    }
   ],
   "source": [
    "print((primos).difference(impares)) #primos que não são ímpares (primos - impares)"
   ]
  },
  {
   "cell_type": "code",
   "execution_count": 49,
   "metadata": {},
   "outputs": [
    {
     "name": "stdout",
     "output_type": "stream",
     "text": [
      "{9, 15}\n"
     ]
    }
   ],
   "source": [
    "print(impares.difference(primos)) #ímpares que não são primos (impares - primos)"
   ]
  },
  {
   "cell_type": "code",
   "execution_count": 50,
   "metadata": {},
   "outputs": [
    {
     "name": "stdout",
     "output_type": "stream",
     "text": [
      "{1, 2, 3, 5, 7, 9, 11, 13, 15, 17, 19}\n"
     ]
    }
   ],
   "source": [
    "print(impares.union(primos)) #ímpares e os primos (impares + primos)"
   ]
  },
  {
   "cell_type": "code",
   "execution_count": 51,
   "metadata": {},
   "outputs": [
    {
     "name": "stdout",
     "output_type": "stream",
     "text": [
      "{0, 1, 3, 4, 5, 6, 7, 8, 10, 11, 12, 13, 14, 16, 17, 18, 19, 20}\n"
     ]
    }
   ],
   "source": [
    "print(pares.symmetric_difference(primos)) #ou são pares ou são primos, não a mesma coisa.\n",
    "                                          # sai o 2, que é ambos (par e primo)"
   ]
  },
  {
   "cell_type": "code",
   "execution_count": 52,
   "metadata": {},
   "outputs": [],
   "source": [
    "l_pares =list(pares) #transformar um conjunto em lista"
   ]
  },
  {
   "cell_type": "code",
   "execution_count": 53,
   "metadata": {},
   "outputs": [
    {
     "data": {
      "text/plain": [
       "[0, 2, 4, 6, 8, 10, 12, 14, 16, 18, 20]"
      ]
     },
     "execution_count": 53,
     "metadata": {},
     "output_type": "execute_result"
    }
   ],
   "source": [
    "l_pares"
   ]
  },
  {
   "cell_type": "code",
   "execution_count": 54,
   "metadata": {},
   "outputs": [],
   "source": [
    "l5 = [1,2,3,2,1,2,3,2,1,2,3,2,1]"
   ]
  },
  {
   "cell_type": "code",
   "execution_count": 56,
   "metadata": {},
   "outputs": [
    {
     "name": "stdout",
     "output_type": "stream",
     "text": [
      "{1, 2, 3}\n"
     ]
    }
   ],
   "source": [
    "l5 = set(l5)\n",
    "print(l5) #transforma a lista em conjunto e elimina as repetições"
   ]
  },
  {
   "cell_type": "code",
   "execution_count": null,
   "metadata": {},
   "outputs": [],
   "source": [
    "#a forma mais rápida de eliminar repetições de uma lista é transformando-a em conjunto"
   ]
  },
  {
   "cell_type": "code",
   "execution_count": 63,
   "metadata": {},
   "outputs": [],
   "source": [
    "l5 = [1,2,3,2,1,2,3,2,1,2,3,2,1]"
   ]
  },
  {
   "cell_type": "code",
   "execution_count": 64,
   "metadata": {},
   "outputs": [
    {
     "name": "stdout",
     "output_type": "stream",
     "text": [
      "[1, 2, 3, 2, 1, 2, 3, 2, 1, 2, 3, 2, 1]\n",
      "[1, 2, 3]\n"
     ]
    }
   ],
   "source": [
    "print(l5)\n",
    "l5 = list(set(l5))\n",
    "print(l5)\n",
    "#transforma-se em set e em lista ao mesmo tempo para eliminar as repetições e continuar a se ter uma lista\n",
    "#entretanto, pode não ficar em ordem"
   ]
  },
  {
   "cell_type": "code",
   "execution_count": null,
   "metadata": {},
   "outputs": [],
   "source": [
    "#Estruturas de programação"
   ]
  },
  {
   "cell_type": "code",
   "execution_count": 65,
   "metadata": {},
   "outputs": [
    {
     "name": "stdout",
     "output_type": "stream",
     "text": [
      "O Número 123456 é par\n",
      "testei e terminei\n"
     ]
    }
   ],
   "source": [
    "n = 123456\n",
    "if n%2 == 0: #se é par\n",
    "    print(f'O Número {n} é par')\n",
    "print('testei e terminei')"
   ]
  },
  {
   "cell_type": "code",
   "execution_count": 66,
   "metadata": {},
   "outputs": [
    {
     "name": "stdout",
     "output_type": "stream",
     "text": [
      "testei e terminei\n"
     ]
    }
   ],
   "source": [
    "n = 123453\n",
    "if n%2 == 0: #se é par\n",
    "    print(f'O Número {n} é par')\n",
    "print('testei e terminei')"
   ]
  },
  {
   "cell_type": "code",
   "execution_count": 67,
   "metadata": {},
   "outputs": [
    {
     "name": "stdout",
     "output_type": "stream",
     "text": [
      "O número 123453 não é par\n",
      "testei e terminei\n"
     ]
    }
   ],
   "source": [
    "n = 123453\n",
    "if n%2 == 0: #se é par\n",
    "    print(f'O Número {n} é par')\n",
    "else:\n",
    "    print(f'O número {n} não é par')\n",
    "print('testei e terminei')"
   ]
  },
  {
   "cell_type": "code",
   "execution_count": 69,
   "metadata": {},
   "outputs": [
    {
     "name": "stdout",
     "output_type": "stream",
     "text": [
      "O Número 30 é par\n",
      "testei e terminei\n"
     ]
    }
   ],
   "source": [
    "n = 30\n",
    "if n%2 == 0: #se é par\n",
    "    print(f'O Número {n} é par')\n",
    "elif n%3 == 0:\n",
    "    print(f'O número {n} é divisível por 3')\n",
    "else:\n",
    "    print(f'O número {n} não é par')\n",
    "print('testei e terminei')\n",
    "\n",
    "#entra no primeiro verdadeiro e ignora os outros (neste caso o elif)."
   ]
  },
  {
   "cell_type": "code",
   "execution_count": 71,
   "metadata": {},
   "outputs": [
    {
     "name": "stdout",
     "output_type": "stream",
     "text": [
      "O Número 30 é par e divisível por 3\n",
      "FIM\n"
     ]
    }
   ],
   "source": [
    "n = 30\n",
    "if n%2 == 0 and n%3 == 0:\n",
    "    print(f'O Número {n} é par e divisível por 3')\n",
    "elif n%2 == 0:\n",
    "    print(f'O número {n} é par')\n",
    "elif n%3 == 0:\n",
    "    print(f'O Número {n} é Divisível por 3')\n",
    "else:\n",
    "    print(f'O Número {n} não é par nem divisível por 3')\n",
    "print('FIM')"
   ]
  },
  {
   "cell_type": "code",
   "execution_count": null,
   "metadata": {},
   "outputs": [],
   "source": [
    "#Ciclos\n",
    "\n",
    "# Ciclos for - sei quantas vezes vou executar o ciclo enquanto determinada condição for verdadeira\n",
    "# Ciclos while - não se sabe quantas vezes será executado enquanto determinada condição for vedadeira"
   ]
  },
  {
   "cell_type": "code",
   "execution_count": 73,
   "metadata": {},
   "outputs": [
    {
     "name": "stdout",
     "output_type": "stream",
     "text": [
      "1\n",
      "2\n",
      "3\n",
      "4\n",
      "5\n",
      "6\n",
      "7\n",
      "8\n",
      "9\n",
      "10\n"
     ]
    }
   ],
   "source": [
    "for i in range(1,11):\n",
    "    print(i)"
   ]
  },
  {
   "cell_type": "code",
   "execution_count": 74,
   "metadata": {},
   "outputs": [
    {
     "name": "stdout",
     "output_type": "stream",
     "text": [
      "11\n",
      "9\n",
      "7\n",
      "5\n",
      "3\n"
     ]
    }
   ],
   "source": [
    "for i in range(11,1,-2):\n",
    "    print(i)"
   ]
  },
  {
   "cell_type": "code",
   "execution_count": 75,
   "metadata": {},
   "outputs": [
    {
     "name": "stdout",
     "output_type": "stream",
     "text": [
      "Olá\n",
      "11\n",
      "terminei\n",
      "Olá\n",
      "9\n",
      "terminei\n",
      "Olá\n",
      "7\n",
      "terminei\n",
      "Olá\n",
      "5\n",
      "terminei\n",
      "Olá\n",
      "3\n",
      "terminei\n"
     ]
    }
   ],
   "source": [
    "for i in range(11,1,-2):\n",
    "    print('Olá')\n",
    "    print(i)\n",
    "    print('terminei')"
   ]
  },
  {
   "cell_type": "code",
   "execution_count": 76,
   "metadata": {},
   "outputs": [
    {
     "name": "stdout",
     "output_type": "stream",
     "text": [
      "Olá\n",
      "Olá outra vez\n",
      "terminei\n",
      "Olá\n",
      "Olá outra vez\n",
      "terminei\n",
      "Olá\n",
      "Olá outra vez\n",
      "terminei\n",
      "Olá\n",
      "Olá outra vez\n",
      "terminei\n",
      "Olá\n",
      "Olá outra vez\n",
      "terminei\n"
     ]
    }
   ],
   "source": [
    "for i in range(11,1,-2):\n",
    "    print('Olá')\n",
    "    print('Olá outra vez')\n",
    "    print('terminei')"
   ]
  },
  {
   "cell_type": "code",
   "execution_count": 80,
   "metadata": {},
   "outputs": [],
   "source": [
    "my_l= [1,2,3,'a','b',[1,2], {1,2,3}]"
   ]
  },
  {
   "cell_type": "code",
   "execution_count": 84,
   "metadata": {},
   "outputs": [],
   "source": [
    "my_l=[1,2,3,4,3,4,6]"
   ]
  },
  {
   "cell_type": "code",
   "execution_count": 85,
   "metadata": {},
   "outputs": [
    {
     "name": "stdout",
     "output_type": "stream",
     "text": [
      "1\n",
      "4\n",
      "9\n",
      "16\n",
      "9\n",
      "16\n",
      "36\n"
     ]
    }
   ],
   "source": [
    "k = len(my_l)\n",
    "for i in range(k):\n",
    "    print(my_l[i]**2)"
   ]
  },
  {
   "cell_type": "code",
   "execution_count": 87,
   "metadata": {},
   "outputs": [
    {
     "name": "stdout",
     "output_type": "stream",
     "text": [
      "1\n",
      "4\n",
      "9\n",
      "16\n"
     ]
    }
   ],
   "source": [
    "k = len(my_l) - 3 #imprime o total menos os 3 ultimos elementos\n",
    "for i in range(k):\n",
    "    print(my_l[i]**2)"
   ]
  },
  {
   "cell_type": "code",
   "execution_count": 86,
   "metadata": {},
   "outputs": [
    {
     "name": "stdout",
     "output_type": "stream",
     "text": [
      "1\n",
      "4\n",
      "9\n",
      "16\n",
      "9\n",
      "16\n",
      "36\n"
     ]
    }
   ],
   "source": [
    "for x in my_l: # a variável assume os próprios valores da lista\n",
    "    print(x**2)"
   ]
  },
  {
   "cell_type": "code",
   "execution_count": 88,
   "metadata": {},
   "outputs": [],
   "source": [
    "my_l = ['seg','ter','qua','qui','sex']\n"
   ]
  },
  {
   "cell_type": "code",
   "execution_count": 90,
   "metadata": {},
   "outputs": [
    {
     "name": "stdout",
     "output_type": "stream",
     "text": [
      "seg\n",
      "ter\n",
      "qua\n",
      "qui\n",
      "sex\n"
     ]
    }
   ],
   "source": [
    "k = len(my_l)\n",
    "for i in range(k):\n",
    "    print(my_l[i])"
   ]
  },
  {
   "cell_type": "code",
   "execution_count": 91,
   "metadata": {},
   "outputs": [
    {
     "name": "stdout",
     "output_type": "stream",
     "text": [
      "seg\n",
      "ter\n",
      "qua\n",
      "qui\n",
      "sex\n"
     ]
    }
   ],
   "source": [
    "for x in my_l:\n",
    "    print(x)"
   ]
  },
  {
   "cell_type": "code",
   "execution_count": 92,
   "metadata": {},
   "outputs": [
    {
     "name": "stdout",
     "output_type": "stream",
     "text": [
      "qui\n",
      "ter\n",
      "qua\n",
      "seg\n",
      "sex\n"
     ]
    }
   ],
   "source": [
    "my_s = {'seg','ter','qua','qui','sex'}\n",
    "for x in my_s:\n",
    "    print(x)\n",
    " #não se pode usar o range pq os conjuntos não têm ordem"
   ]
  },
  {
   "cell_type": "code",
   "execution_count": 95,
   "metadata": {},
   "outputs": [
    {
     "name": "stdout",
     "output_type": "stream",
     "text": [
      "A média dos valores dados é 2.5.\n"
     ]
    }
   ],
   "source": [
    "a = 0\n",
    "n = 0\n",
    "v = 'a'\n",
    "while v != 'q':\n",
    "    v = input('Dê um valor ou \"q\" para terminar')\n",
    "    if v != 'q':\n",
    "        a = a + int(v)\n",
    "        n = n + 1\n",
    "m = a/n\n",
    "print(f'A média dos valores dados é {m}.')\n",
    "\n",
    "\n",
    "        "
   ]
  }
 ],
 "metadata": {
  "kernelspec": {
   "display_name": "Python 3",
   "language": "python",
   "name": "python3"
  },
  "language_info": {
   "codemirror_mode": {
    "name": "ipython",
    "version": 3
   },
   "file_extension": ".py",
   "mimetype": "text/x-python",
   "name": "python",
   "nbconvert_exporter": "python",
   "pygments_lexer": "ipython3",
   "version": "3.11.5"
  },
  "orig_nbformat": 4
 },
 "nbformat": 4,
 "nbformat_minor": 2
}
