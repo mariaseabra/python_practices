{
 "cells": [
  {
   "cell_type": "markdown",
   "metadata": {},
   "source": [
    "Exercício 5"
   ]
  },
  {
   "cell_type": "code",
   "execution_count": 7,
   "metadata": {},
   "outputs": [],
   "source": [
    "def posicao_lista(lis,val):\n",
    "    lis_res = []\n",
    "    for i in range(len(lis)):\n",
    "        if val == lis[i]:\n",
    "            lis_res.append(i) \n",
    "    if not val in lis:  # ou if len(lis_res) == 0 #\n",
    "        return \"NA\"\n",
    "    return lis_res"
   ]
  },
  {
   "cell_type": "code",
   "execution_count": 8,
   "metadata": {},
   "outputs": [
    {
     "name": "stdout",
     "output_type": "stream",
     "text": [
      "[0, 3, 4]\n"
     ]
    }
   ],
   "source": [
    "l1 = ['a','b','c', 'a', 'a']\n",
    "x = 'a'\n",
    "print(posicao_lista(l1,x))"
   ]
  },
  {
   "cell_type": "code",
   "execution_count": 9,
   "metadata": {},
   "outputs": [
    {
     "name": "stdout",
     "output_type": "stream",
     "text": [
      "[3, 6]\n"
     ]
    }
   ],
   "source": [
    "l2 = [30,40,20,10,30,40,10]\n",
    "x2 = 10\n",
    "print(posicao_lista(l2,x2))"
   ]
  },
  {
   "cell_type": "markdown",
   "metadata": {},
   "source": [
    "Exercício 6"
   ]
  },
  {
   "cell_type": "code",
   "execution_count": 4,
   "metadata": {},
   "outputs": [],
   "source": [
    "def has_repeated_values(lis):\n",
    "    return len(lis) > len(set(lis))"
   ]
  },
  {
   "cell_type": "code",
   "execution_count": 5,
   "metadata": {},
   "outputs": [
    {
     "data": {
      "text/plain": [
       "False"
      ]
     },
     "execution_count": 5,
     "metadata": {},
     "output_type": "execute_result"
    }
   ],
   "source": [
    "has_repeated_values([1,2,3,4,5])"
   ]
  },
  {
   "cell_type": "markdown",
   "metadata": {},
   "source": [
    "Exercício 7\n",
    "Create a Python function called “CountElements( aList, element )”. The function must, without using the Python native function “Count()”, return the number of times “element” occurs in the list. \n",
    "Some Examples:\n",
    "Calling:\n",
    "CountElements( [\"a\", \"b\", \"a\", \"c\", \"a\", \"b\", \"c\"], \"a\" )\n",
    "Should return the value: 3\n",
    "Calling:\n",
    "CountElements( [\"a\", \"b\", \"a\", \"c\", \"a\", \"b\", \"c\"], \"c\" )\n",
    "Should return the value: 2"
   ]
  },
  {
   "cell_type": "code",
   "execution_count": 26,
   "metadata": {},
   "outputs": [],
   "source": [
    "def CountElements (lis, val):\n",
    "    c = 0\n",
    "    for i in lis:\n",
    "        if val == i:\n",
    "            c = c + 1\n",
    "    return c\n"
   ]
  },
  {
   "cell_type": "code",
   "execution_count": 27,
   "metadata": {},
   "outputs": [
    {
     "data": {
      "text/plain": [
       "3"
      ]
     },
     "execution_count": 27,
     "metadata": {},
     "output_type": "execute_result"
    }
   ],
   "source": [
    "CountElements([1,2,3,3,4,5,6,3,7],3)"
   ]
  },
  {
   "cell_type": "code",
   "execution_count": 30,
   "metadata": {},
   "outputs": [
    {
     "name": "stdout",
     "output_type": "stream",
     "text": [
      "2\n"
     ]
    }
   ],
   "source": [
    "l1 = [10,[1,2],['a','b'],20,[1,2]]\n",
    "v1 = [1,2]\n",
    "print(CountElements(l1,v1))"
   ]
  },
  {
   "cell_type": "markdown",
   "metadata": {},
   "source": [
    "Módulos"
   ]
  },
  {
   "cell_type": "code",
   "execution_count": 39,
   "metadata": {},
   "outputs": [],
   "source": [
    "import random as rd"
   ]
  },
  {
   "cell_type": "code",
   "execution_count": 44,
   "metadata": {},
   "outputs": [],
   "source": [
    "l1 = [1,2,1354,2,3,4,5,3,45,5,6,6,56,7,567,67,565,767]"
   ]
  },
  {
   "cell_type": "code",
   "execution_count": 42,
   "metadata": {},
   "outputs": [
    {
     "name": "stdout",
     "output_type": "stream",
     "text": [
      "6\n"
     ]
    }
   ],
   "source": [
    "print(rd.choice(l1))"
   ]
  },
  {
   "cell_type": "code",
   "execution_count": 43,
   "metadata": {},
   "outputs": [],
   "source": [
    "from random import choice # importa apenas a função choice"
   ]
  },
  {
   "cell_type": "code",
   "execution_count": 45,
   "metadata": {},
   "outputs": [
    {
     "name": "stdout",
     "output_type": "stream",
     "text": [
      "2\n"
     ]
    }
   ],
   "source": [
    "print(choice(l1))"
   ]
  },
  {
   "cell_type": "code",
   "execution_count": 46,
   "metadata": {},
   "outputs": [],
   "source": [
    "from random import choice, randint"
   ]
  },
  {
   "cell_type": "code",
   "execution_count": 47,
   "metadata": {},
   "outputs": [
    {
     "name": "stdout",
     "output_type": "stream",
     "text": [
      "3\n",
      "12\n"
     ]
    }
   ],
   "source": [
    "print(choice(l1))\n",
    "print(randint(0,20)) #imprime um número aleatório entre 0 e 20 inclusive"
   ]
  },
  {
   "cell_type": "code",
   "execution_count": 53,
   "metadata": {},
   "outputs": [
    {
     "name": "stdout",
     "output_type": "stream",
     "text": [
      "Não introduziu um número.\n"
     ]
    }
   ],
   "source": [
    "try:\n",
    "    n = int(input('Qual é o número?'))\n",
    "    if n%2==0:\n",
    "        print(f'O número {n} é par.')\n",
    "    else:\n",
    "        print(f'O número {n} é ímpar.')\n",
    "except: #situação de exceção\n",
    "    print ('Não introduziu um número.')\n",
    "\n",
    "# quando der um erro, em vez de rebenter, imprime o texto (e.g. o\n",
    "# utilizador inserir uma letra em vez de um número)"
   ]
  },
  {
   "cell_type": "code",
   "execution_count": 58,
   "metadata": {},
   "outputs": [
    {
     "name": "stdout",
     "output_type": "stream",
     "text": [
      "O número 123 é ímpar.\n",
      "O número 124 é par.\n",
      "Não introduziu um número.\n",
      "O número 1 é ímpar.\n",
      "Não introduziu um número.\n",
      "Obrigada\n"
     ]
    }
   ],
   "source": [
    "while True:\n",
    "    try:\n",
    "        n = int(input('Qual é o número?'))\n",
    "        if n%2==0:\n",
    "            print(f'O número {n} é par.')\n",
    "        else:\n",
    "            print(f'O número {n} é ímpar.')\n",
    "    except: #situação de exceção\n",
    "        print ('Não introduziu um número.')\n",
    "        x = input('Quer repetir?(n para terminar)')\n",
    "        if x == 'n':\n",
    "            break\n",
    "print('Obrigada.')"
   ]
  },
  {
   "cell_type": "markdown",
   "metadata": {},
   "source": [
    "Create a Python function called “GenerateFibonacci( numElements )”. This function will take a\n",
    "number as input parameter and return the list of the first numbers of the famous Fibonacci\n",
    "sequence. As a reminder, the Fibonacci sequence is a list of numbers in which every element\n",
    "corresponds to the sum of the two previous ones: 1, 1, 2, 3, 5, 8, 13, 21, 34, 55, … etc.\n",
    "Thus, when calling the function:\n",
    "GenerateFibonacci( 12 )\n",
    "Will return the following list:\n",
    "[1, 1, 2, 3, 5, 8, 13, 21, 34, 55, 89, 144]\n",
    "Which corresponds to the first 12 elements of the Fibonacci sequence.\n",
    "Calling the function:\n",
    "GenerateFibonacci( 20 )\n",
    "Will return the following list:\n",
    "[ 1, 1, 2, 3, 5, 8, 13, 21, 34, 55, 89, 144, 233, 377, 610, 987,\n",
    "1597, 2584, 4181, 6765]\n",
    "Which corresponds to the first 20 elements of the Fibonacci sequence."
   ]
  },
  {
   "cell_type": "code",
   "execution_count": 64,
   "metadata": {},
   "outputs": [],
   "source": [
    "def GenerateFibonacci(numElements):\n",
    "    l = [1,1]\n",
    "    for i in range(1,numElements-1):\n",
    "        l.append(l(0)+l(1))\n",
    "    return l\n"
   ]
  },
  {
   "cell_type": "code",
   "execution_count": 65,
   "metadata": {},
   "outputs": [
    {
     "ename": "TypeError",
     "evalue": "'list' object is not callable",
     "output_type": "error",
     "traceback": [
      "\u001b[0;31m---------------------------------------------------------------------------\u001b[0m",
      "\u001b[0;31mTypeError\u001b[0m                                 Traceback (most recent call last)",
      "Cell \u001b[0;32mIn[65], line 1\u001b[0m\n\u001b[0;32m----> 1\u001b[0m GenerateFibonacci(\u001b[39m5\u001b[39;49m)\n",
      "Cell \u001b[0;32mIn[64], line 4\u001b[0m, in \u001b[0;36mGenerateFibonacci\u001b[0;34m(numElements)\u001b[0m\n\u001b[1;32m      2\u001b[0m l \u001b[39m=\u001b[39m [\u001b[39m1\u001b[39m,\u001b[39m1\u001b[39m]\n\u001b[1;32m      3\u001b[0m \u001b[39mfor\u001b[39;00m i \u001b[39min\u001b[39;00m \u001b[39mrange\u001b[39m(\u001b[39m1\u001b[39m,numElements\u001b[39m-\u001b[39m\u001b[39m1\u001b[39m):\n\u001b[0;32m----> 4\u001b[0m     l\u001b[39m.\u001b[39mappend(l(\u001b[39m0\u001b[39;49m)\u001b[39m+\u001b[39ml(\u001b[39m1\u001b[39m))\n\u001b[1;32m      5\u001b[0m \u001b[39mreturn\u001b[39;00m l\n",
      "\u001b[0;31mTypeError\u001b[0m: 'list' object is not callable"
     ]
    }
   ],
   "source": [
    "GenerateFibonacci(5)"
   ]
  }
 ],
 "metadata": {
  "kernelspec": {
   "display_name": "Python 3",
   "language": "python",
   "name": "python3"
  },
  "language_info": {
   "codemirror_mode": {
    "name": "ipython",
    "version": 3
   },
   "file_extension": ".py",
   "mimetype": "text/x-python",
   "name": "python",
   "nbconvert_exporter": "python",
   "pygments_lexer": "ipython3",
   "version": "3.11.5"
  },
  "orig_nbformat": 4
 },
 "nbformat": 4,
 "nbformat_minor": 2
}
