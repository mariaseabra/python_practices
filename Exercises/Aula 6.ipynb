{
 "cells": [
  {
   "cell_type": "code",
   "execution_count": 2,
   "metadata": {},
   "outputs": [
    {
     "name": "stderr",
     "output_type": "stream",
     "text": [
      "/var/folders/kg/wlqyjqh544j4rxfmwgfvd2dc0000gn/T/ipykernel_5658/217833862.py:1: DeprecationWarning: \n",
      "Pyarrow will become a required dependency of pandas in the next major release of pandas (pandas 3.0),\n",
      "(to allow more performant data types, such as the Arrow string type, and better interoperability with other libraries)\n",
      "but was not found to be installed on your system.\n",
      "If this would cause problems for you,\n",
      "please provide us feedback at https://github.com/pandas-dev/pandas/issues/54466\n",
      "        \n",
      "  import pandas as pd\n"
     ]
    }
   ],
   "source": [
    "import pandas as pd "
   ]
  },
  {
   "cell_type": "code",
   "execution_count": 8,
   "metadata": {},
   "outputs": [],
   "source": [
    "def sumproduct (l1,l2):\n",
    "    a = 0\n",
    "    k = len(l1)\n",
    "    for i in range(k):\n",
    "        a = a + l1[i]*l2[i]\n",
    "    return a"
   ]
  },
  {
   "cell_type": "code",
   "execution_count": 9,
   "metadata": {},
   "outputs": [
    {
     "data": {
      "text/plain": [
       "32"
      ]
     },
     "execution_count": 9,
     "metadata": {},
     "output_type": "execute_result"
    }
   ],
   "source": [
    "sumproduct([1,2,3], [4,5,6])"
   ]
  },
  {
   "cell_type": "code",
   "execution_count": 38,
   "metadata": {},
   "outputs": [],
   "source": [
    "f_entrada = 'Notas-Para-Calcular.xlsx'\n",
    "f_saida = 'Notas-Calculadas.xlsx'"
   ]
  },
  {
   "cell_type": "code",
   "execution_count": 29,
   "metadata": {},
   "outputs": [],
   "source": [
    "df_notas = pd.read_excel(f_entrada, sheet_name= 'Notas', engine='openpyxl')"
   ]
  },
  {
   "cell_type": "code",
   "execution_count": 5,
   "metadata": {},
   "outputs": [
    {
     "data": {
      "text/html": [
       "<div>\n",
       "<style scoped>\n",
       "    .dataframe tbody tr th:only-of-type {\n",
       "        vertical-align: middle;\n",
       "    }\n",
       "\n",
       "    .dataframe tbody tr th {\n",
       "        vertical-align: top;\n",
       "    }\n",
       "\n",
       "    .dataframe thead th {\n",
       "        text-align: right;\n",
       "    }\n",
       "</style>\n",
       "<table border=\"1\" class=\"dataframe\">\n",
       "  <thead>\n",
       "    <tr style=\"text-align: right;\">\n",
       "      <th></th>\n",
       "      <th>nAluno</th>\n",
       "      <th>nome</th>\n",
       "      <th>dataNascimento</th>\n",
       "      <th>email</th>\n",
       "      <th>Teste 1</th>\n",
       "      <th>Teste 2</th>\n",
       "      <th>Lab 1</th>\n",
       "      <th>Lab 2</th>\n",
       "      <th>Lab 3</th>\n",
       "      <th>Lab 4</th>\n",
       "      <th>Final</th>\n",
       "    </tr>\n",
       "  </thead>\n",
       "  <tbody>\n",
       "    <tr>\n",
       "      <th>0</th>\n",
       "      <td>701</td>\n",
       "      <td>Rosa C. Olsen</td>\n",
       "      <td>1996-06-07</td>\n",
       "      <td>l0701@aln.iseg.ulisboa.pt</td>\n",
       "      <td>16.8</td>\n",
       "      <td>9.2</td>\n",
       "      <td>12.6</td>\n",
       "      <td>10.6</td>\n",
       "      <td>13.7</td>\n",
       "      <td>9.2</td>\n",
       "      <td>NaN</td>\n",
       "    </tr>\n",
       "    <tr>\n",
       "      <th>1</th>\n",
       "      <td>798</td>\n",
       "      <td>Clarence Sheridan</td>\n",
       "      <td>1996-01-03</td>\n",
       "      <td>l0798@aln.iseg.ulisboa.pt</td>\n",
       "      <td>15.8</td>\n",
       "      <td>15.8</td>\n",
       "      <td>18.9</td>\n",
       "      <td>19.6</td>\n",
       "      <td>14.2</td>\n",
       "      <td>4.3</td>\n",
       "      <td>NaN</td>\n",
       "    </tr>\n",
       "    <tr>\n",
       "      <th>2</th>\n",
       "      <td>854</td>\n",
       "      <td>Jaclyn T. Glover</td>\n",
       "      <td>1995-09-20</td>\n",
       "      <td>l0854@aln.iseg.ulisboa.pt</td>\n",
       "      <td>11.2</td>\n",
       "      <td>8.5</td>\n",
       "      <td>9.1</td>\n",
       "      <td>16.8</td>\n",
       "      <td>13.0</td>\n",
       "      <td>19.6</td>\n",
       "      <td>NaN</td>\n",
       "    </tr>\n",
       "    <tr>\n",
       "      <th>3</th>\n",
       "      <td>663</td>\n",
       "      <td>Catherine U. Buggs</td>\n",
       "      <td>1995-12-09</td>\n",
       "      <td>l0663@aln.iseg.ulisboa.pt</td>\n",
       "      <td>15.0</td>\n",
       "      <td>6.8</td>\n",
       "      <td>5.4</td>\n",
       "      <td>8.2</td>\n",
       "      <td>6.2</td>\n",
       "      <td>4.4</td>\n",
       "      <td>NaN</td>\n",
       "    </tr>\n",
       "    <tr>\n",
       "      <th>4</th>\n",
       "      <td>921</td>\n",
       "      <td>James E. Watkins</td>\n",
       "      <td>1999-08-08</td>\n",
       "      <td>l0921@aln.iseg.ulisboa.pt</td>\n",
       "      <td>11.0</td>\n",
       "      <td>8.0</td>\n",
       "      <td>16.9</td>\n",
       "      <td>5.4</td>\n",
       "      <td>14.9</td>\n",
       "      <td>5.1</td>\n",
       "      <td>NaN</td>\n",
       "    </tr>\n",
       "    <tr>\n",
       "      <th>...</th>\n",
       "      <td>...</td>\n",
       "      <td>...</td>\n",
       "      <td>...</td>\n",
       "      <td>...</td>\n",
       "      <td>...</td>\n",
       "      <td>...</td>\n",
       "      <td>...</td>\n",
       "      <td>...</td>\n",
       "      <td>...</td>\n",
       "      <td>...</td>\n",
       "      <td>...</td>\n",
       "    </tr>\n",
       "    <tr>\n",
       "      <th>85</th>\n",
       "      <td>864</td>\n",
       "      <td>Jerry J. Ramos</td>\n",
       "      <td>1999-03-13</td>\n",
       "      <td>l0864@aln.iseg.ulisboa.pt</td>\n",
       "      <td>11.3</td>\n",
       "      <td>8.6</td>\n",
       "      <td>9.8</td>\n",
       "      <td>4.7</td>\n",
       "      <td>7.1</td>\n",
       "      <td>17.8</td>\n",
       "      <td>NaN</td>\n",
       "    </tr>\n",
       "    <tr>\n",
       "      <th>86</th>\n",
       "      <td>860</td>\n",
       "      <td>Gabriel Anderson</td>\n",
       "      <td>1998-05-10</td>\n",
       "      <td>l0860@aln.iseg.ulisboa.pt</td>\n",
       "      <td>11.3</td>\n",
       "      <td>11.3</td>\n",
       "      <td>19.3</td>\n",
       "      <td>16.6</td>\n",
       "      <td>14.6</td>\n",
       "      <td>12.2</td>\n",
       "      <td>NaN</td>\n",
       "    </tr>\n",
       "    <tr>\n",
       "      <th>87</th>\n",
       "      <td>778</td>\n",
       "      <td>Erika B. Neville</td>\n",
       "      <td>1997-03-04</td>\n",
       "      <td>l0778@aln.iseg.ulisboa.pt</td>\n",
       "      <td>12.9</td>\n",
       "      <td>19.2</td>\n",
       "      <td>6.7</td>\n",
       "      <td>10.9</td>\n",
       "      <td>6.1</td>\n",
       "      <td>19.2</td>\n",
       "      <td>NaN</td>\n",
       "    </tr>\n",
       "    <tr>\n",
       "      <th>88</th>\n",
       "      <td>609</td>\n",
       "      <td>Pamela V. Thibodeaux</td>\n",
       "      <td>2000-04-25</td>\n",
       "      <td>l0609@aln.iseg.ulisboa.pt</td>\n",
       "      <td>18.2</td>\n",
       "      <td>19.2</td>\n",
       "      <td>12.4</td>\n",
       "      <td>12.0</td>\n",
       "      <td>12.5</td>\n",
       "      <td>9.2</td>\n",
       "      <td>NaN</td>\n",
       "    </tr>\n",
       "    <tr>\n",
       "      <th>89</th>\n",
       "      <td>960</td>\n",
       "      <td>Cordell Chaney</td>\n",
       "      <td>1998-03-27</td>\n",
       "      <td>l0960@aln.iseg.ulisboa.pt</td>\n",
       "      <td>12.1</td>\n",
       "      <td>14.5</td>\n",
       "      <td>5.6</td>\n",
       "      <td>6.3</td>\n",
       "      <td>7.3</td>\n",
       "      <td>7.5</td>\n",
       "      <td>NaN</td>\n",
       "    </tr>\n",
       "  </tbody>\n",
       "</table>\n",
       "<p>90 rows × 11 columns</p>\n",
       "</div>"
      ],
      "text/plain": [
       "    nAluno                  nome dataNascimento                      email  \\\n",
       "0      701         Rosa C. Olsen     1996-06-07  l0701@aln.iseg.ulisboa.pt   \n",
       "1      798     Clarence Sheridan     1996-01-03  l0798@aln.iseg.ulisboa.pt   \n",
       "2      854      Jaclyn T. Glover     1995-09-20  l0854@aln.iseg.ulisboa.pt   \n",
       "3      663    Catherine U. Buggs     1995-12-09  l0663@aln.iseg.ulisboa.pt   \n",
       "4      921      James E. Watkins     1999-08-08  l0921@aln.iseg.ulisboa.pt   \n",
       "..     ...                   ...            ...                        ...   \n",
       "85     864        Jerry J. Ramos     1999-03-13  l0864@aln.iseg.ulisboa.pt   \n",
       "86     860      Gabriel Anderson     1998-05-10  l0860@aln.iseg.ulisboa.pt   \n",
       "87     778      Erika B. Neville     1997-03-04  l0778@aln.iseg.ulisboa.pt   \n",
       "88     609  Pamela V. Thibodeaux     2000-04-25  l0609@aln.iseg.ulisboa.pt   \n",
       "89     960        Cordell Chaney     1998-03-27  l0960@aln.iseg.ulisboa.pt   \n",
       "\n",
       "    Teste 1  Teste 2  Lab 1  Lab 2  Lab 3  Lab 4  Final  \n",
       "0      16.8      9.2   12.6   10.6   13.7    9.2    NaN  \n",
       "1      15.8     15.8   18.9   19.6   14.2    4.3    NaN  \n",
       "2      11.2      8.5    9.1   16.8   13.0   19.6    NaN  \n",
       "3      15.0      6.8    5.4    8.2    6.2    4.4    NaN  \n",
       "4      11.0      8.0   16.9    5.4   14.9    5.1    NaN  \n",
       "..      ...      ...    ...    ...    ...    ...    ...  \n",
       "85     11.3      8.6    9.8    4.7    7.1   17.8    NaN  \n",
       "86     11.3     11.3   19.3   16.6   14.6   12.2    NaN  \n",
       "87     12.9     19.2    6.7   10.9    6.1   19.2    NaN  \n",
       "88     18.2     19.2   12.4   12.0   12.5    9.2    NaN  \n",
       "89     12.1     14.5    5.6    6.3    7.3    7.5    NaN  \n",
       "\n",
       "[90 rows x 11 columns]"
      ]
     },
     "execution_count": 5,
     "metadata": {},
     "output_type": "execute_result"
    }
   ],
   "source": [
    "df_notas"
   ]
  },
  {
   "cell_type": "code",
   "execution_count": 6,
   "metadata": {},
   "outputs": [],
   "source": [
    "df_pesos = pd.read_excel(f_entrada, sheet_name='Pesos',engine='openpyxl')"
   ]
  },
  {
   "cell_type": "code",
   "execution_count": 7,
   "metadata": {},
   "outputs": [
    {
     "data": {
      "text/html": [
       "<div>\n",
       "<style scoped>\n",
       "    .dataframe tbody tr th:only-of-type {\n",
       "        vertical-align: middle;\n",
       "    }\n",
       "\n",
       "    .dataframe tbody tr th {\n",
       "        vertical-align: top;\n",
       "    }\n",
       "\n",
       "    .dataframe thead th {\n",
       "        text-align: right;\n",
       "    }\n",
       "</style>\n",
       "<table border=\"1\" class=\"dataframe\">\n",
       "  <thead>\n",
       "    <tr style=\"text-align: right;\">\n",
       "      <th></th>\n",
       "      <th>Teste 1</th>\n",
       "      <th>Teste 2</th>\n",
       "      <th>Lab 1</th>\n",
       "      <th>Lab 2</th>\n",
       "      <th>Lab 3</th>\n",
       "      <th>Lab 4</th>\n",
       "    </tr>\n",
       "  </thead>\n",
       "  <tbody>\n",
       "    <tr>\n",
       "      <th>0</th>\n",
       "      <td>0.4</td>\n",
       "      <td>0.2</td>\n",
       "      <td>0.1</td>\n",
       "      <td>0.1</td>\n",
       "      <td>0.1</td>\n",
       "      <td>0.1</td>\n",
       "    </tr>\n",
       "  </tbody>\n",
       "</table>\n",
       "</div>"
      ],
      "text/plain": [
       "   Teste 1  Teste 2  Lab 1  Lab 2  Lab 3  Lab 4\n",
       "0      0.4      0.2    0.1    0.1    0.1    0.1"
      ]
     },
     "execution_count": 7,
     "metadata": {},
     "output_type": "execute_result"
    }
   ],
   "source": [
    "df_pesos"
   ]
  },
  {
   "cell_type": "code",
   "execution_count": null,
   "metadata": {},
   "outputs": [],
   "source": [
    "x =sumproduct(list(df_notas.loc[0, 'Teste 1':'Lab 4']), list(def_pesos.loc[0, 'Teste 1':'Lab 4']))\n",
    "df_notas.loc[0, 'Final'] = x"
   ]
  },
  {
   "cell_type": "code",
   "execution_count": 17,
   "metadata": {},
   "outputs": [
    {
     "data": {
      "text/plain": [
       "13.17"
      ]
     },
     "execution_count": 17,
     "metadata": {},
     "output_type": "execute_result"
    }
   ],
   "source": [
    "sumproduct(list(df_notas.loc[0,'Teste 1':'Lab 4']),list(df_pesos.loc[0, 'Teste 1': 'Lab 4']))"
   ]
  },
  {
   "cell_type": "code",
   "execution_count": 36,
   "metadata": {},
   "outputs": [],
   "source": [
    "lista_pesos = list(df_pesos.loc[0, 'Teste 1':'Lab 4'])\n",
    "\n",
    "for i in range(len(df_notas)):\n",
    "    lista_notas = list(df_notas.loc[i, 'Teste 1': 'Lab 4'])\n",
    "    df_notas.loc[i,'Final'] = sumproduct(lista_notas,lista_pesos)\n"
   ]
  },
  {
   "cell_type": "code",
   "execution_count": 44,
   "metadata": {},
   "outputs": [
    {
     "data": {
      "text/html": [
       "<div>\n",
       "<style scoped>\n",
       "    .dataframe tbody tr th:only-of-type {\n",
       "        vertical-align: middle;\n",
       "    }\n",
       "\n",
       "    .dataframe tbody tr th {\n",
       "        vertical-align: top;\n",
       "    }\n",
       "\n",
       "    .dataframe thead th {\n",
       "        text-align: right;\n",
       "    }\n",
       "</style>\n",
       "<table border=\"1\" class=\"dataframe\">\n",
       "  <thead>\n",
       "    <tr style=\"text-align: right;\">\n",
       "      <th></th>\n",
       "      <th>nAluno</th>\n",
       "      <th>nome</th>\n",
       "      <th>dataNascimento</th>\n",
       "      <th>email</th>\n",
       "      <th>Teste 1</th>\n",
       "      <th>Teste 2</th>\n",
       "      <th>Lab 1</th>\n",
       "      <th>Lab 2</th>\n",
       "      <th>Lab 3</th>\n",
       "      <th>Lab 4</th>\n",
       "      <th>Final</th>\n",
       "    </tr>\n",
       "  </thead>\n",
       "  <tbody>\n",
       "    <tr>\n",
       "      <th>0</th>\n",
       "      <td>701</td>\n",
       "      <td>Rosa C. Olsen</td>\n",
       "      <td>1996-06-07</td>\n",
       "      <td>l0701@aln.iseg.ulisboa.pt</td>\n",
       "      <td>16.8</td>\n",
       "      <td>9.2</td>\n",
       "      <td>12.6</td>\n",
       "      <td>10.6</td>\n",
       "      <td>13.7</td>\n",
       "      <td>9.2</td>\n",
       "      <td>13.17</td>\n",
       "    </tr>\n",
       "    <tr>\n",
       "      <th>1</th>\n",
       "      <td>798</td>\n",
       "      <td>Clarence Sheridan</td>\n",
       "      <td>1996-01-03</td>\n",
       "      <td>l0798@aln.iseg.ulisboa.pt</td>\n",
       "      <td>15.8</td>\n",
       "      <td>15.8</td>\n",
       "      <td>18.9</td>\n",
       "      <td>19.6</td>\n",
       "      <td>14.2</td>\n",
       "      <td>4.3</td>\n",
       "      <td>15.18</td>\n",
       "    </tr>\n",
       "    <tr>\n",
       "      <th>2</th>\n",
       "      <td>854</td>\n",
       "      <td>Jaclyn T. Glover</td>\n",
       "      <td>1995-09-20</td>\n",
       "      <td>l0854@aln.iseg.ulisboa.pt</td>\n",
       "      <td>11.2</td>\n",
       "      <td>8.5</td>\n",
       "      <td>9.1</td>\n",
       "      <td>16.8</td>\n",
       "      <td>13.0</td>\n",
       "      <td>19.6</td>\n",
       "      <td>12.03</td>\n",
       "    </tr>\n",
       "    <tr>\n",
       "      <th>3</th>\n",
       "      <td>663</td>\n",
       "      <td>Catherine U. Buggs</td>\n",
       "      <td>1995-12-09</td>\n",
       "      <td>l0663@aln.iseg.ulisboa.pt</td>\n",
       "      <td>15.0</td>\n",
       "      <td>6.8</td>\n",
       "      <td>5.4</td>\n",
       "      <td>8.2</td>\n",
       "      <td>6.2</td>\n",
       "      <td>4.4</td>\n",
       "      <td>9.78</td>\n",
       "    </tr>\n",
       "    <tr>\n",
       "      <th>4</th>\n",
       "      <td>921</td>\n",
       "      <td>James E. Watkins</td>\n",
       "      <td>1999-08-08</td>\n",
       "      <td>l0921@aln.iseg.ulisboa.pt</td>\n",
       "      <td>11.0</td>\n",
       "      <td>8.0</td>\n",
       "      <td>16.9</td>\n",
       "      <td>5.4</td>\n",
       "      <td>14.9</td>\n",
       "      <td>5.1</td>\n",
       "      <td>10.23</td>\n",
       "    </tr>\n",
       "  </tbody>\n",
       "</table>\n",
       "</div>"
      ],
      "text/plain": [
       "   nAluno                nome dataNascimento                      email  \\\n",
       "0     701       Rosa C. Olsen     1996-06-07  l0701@aln.iseg.ulisboa.pt   \n",
       "1     798   Clarence Sheridan     1996-01-03  l0798@aln.iseg.ulisboa.pt   \n",
       "2     854    Jaclyn T. Glover     1995-09-20  l0854@aln.iseg.ulisboa.pt   \n",
       "3     663  Catherine U. Buggs     1995-12-09  l0663@aln.iseg.ulisboa.pt   \n",
       "4     921    James E. Watkins     1999-08-08  l0921@aln.iseg.ulisboa.pt   \n",
       "\n",
       "   Teste 1  Teste 2  Lab 1  Lab 2  Lab 3  Lab 4  Final  \n",
       "0     16.8      9.2   12.6   10.6   13.7    9.2  13.17  \n",
       "1     15.8     15.8   18.9   19.6   14.2    4.3  15.18  \n",
       "2     11.2      8.5    9.1   16.8   13.0   19.6  12.03  \n",
       "3     15.0      6.8    5.4    8.2    6.2    4.4   9.78  \n",
       "4     11.0      8.0   16.9    5.4   14.9    5.1  10.23  "
      ]
     },
     "execution_count": 44,
     "metadata": {},
     "output_type": "execute_result"
    }
   ],
   "source": [
    "df_notas.head()"
   ]
  },
  {
   "cell_type": "code",
   "execution_count": 45,
   "metadata": {},
   "outputs": [],
   "source": [
    "my_writer = pd.ExcelWriter(f_saida, engine='openpyxl') #criar o ficheiro"
   ]
  },
  {
   "cell_type": "code",
   "execution_count": 46,
   "metadata": {},
   "outputs": [],
   "source": [
    "df_notas.to_excel(my_writer,sheet_name='Notas_Calculadas', index=False) #se o index for true, adiciona-se ao excel uma primeira coluna com os números 0 - x"
   ]
  },
  {
   "cell_type": "code",
   "execution_count": 47,
   "metadata": {},
   "outputs": [],
   "source": [
    "my_writer.close() # o ficheiro tem de ser sempre fechado"
   ]
  }
 ],
 "metadata": {
  "kernelspec": {
   "display_name": "Python 3",
   "language": "python",
   "name": "python3"
  },
  "language_info": {
   "codemirror_mode": {
    "name": "ipython",
    "version": 3
   },
   "file_extension": ".py",
   "mimetype": "text/x-python",
   "name": "python",
   "nbconvert_exporter": "python",
   "pygments_lexer": "ipython3",
   "version": "3.11.7"
  },
  "orig_nbformat": 4
 },
 "nbformat": 4,
 "nbformat_minor": 2
}
