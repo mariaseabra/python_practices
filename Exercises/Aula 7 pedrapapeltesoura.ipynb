{
 "cells": [
  {
   "cell_type": "markdown",
   "metadata": {},
   "source": [
    "Rock Paper Scissors"
   ]
  },
  {
   "cell_type": "code",
   "execution_count": 2,
   "metadata": {},
   "outputs": [],
   "source": [
    "from random import choice"
   ]
  },
  {
   "cell_type": "code",
   "execution_count": 24,
   "metadata": {},
   "outputs": [],
   "source": [
    "def quem_ganha(USER, MAC):\n",
    "    if USER == MAC:\n",
    "        return 'Tie!'\n",
    "    elif USER == 'p' and MAC == 'r' or USER == 'r' and MAC == 's' or USER == 's' and MAC == 'p':\n",
    "        return 'You won!'\n",
    "    return 'You lost!'\n"
   ]
  },
  {
   "cell_type": "code",
   "execution_count": 26,
   "metadata": {},
   "outputs": [
    {
     "name": "stdout",
     "output_type": "stream",
     "text": [
      "You lost with p against s.\n",
      " Score: 0 v.s. 1\n",
      "Tie! The score is kept: you got 0 v.s. 1 for the mac\n",
      "You won with s against p.\n",
      " Score: 1 v.s. 1\n",
      "You won with s against p.\n",
      " Score: 2 v.s. 1\n",
      "You won with s against p.\n",
      " Score: 3 v.s. 1\n",
      "You won with 3 v.s. 1! Congrats :D\n"
     ]
    }
   ],
   "source": [
    "pontos_u = 0\n",
    "pontos_mac = 0\n",
    "\n",
    "while pontos_u < 3 and pontos_mac < 3:\n",
    "    j_user = input('Rock, paper or scissors? (r, p, s)')\n",
    "    j_mac = choice(['r','p','s'])\n",
    "    resultado = quem_ganha(j_user,j_mac)\n",
    "    if resultado == 'You won!':\n",
    "        pontos_u = pontos_u + 1\n",
    "        print(f'You won with {j_user} against {j_mac}.\\n Score: {pontos_u} v.s. {pontos_mac}')\n",
    "    elif resultado == 'You lost!':\n",
    "        pontos_mac = pontos_mac + 1\n",
    "        print(f'You lost with {j_user} against {j_mac}.\\n Score: {pontos_u} v.s. {pontos_mac}')\n",
    "    else:\n",
    "        print(f'Tie! The score is kept: you got {pontos_u} v.s. {pontos_mac} for the mac')\n",
    "if pontos_u == 3:\n",
    "    print(f'You won with {pontos_u} v.s. {pontos_mac}! Congrats :D')\n",
    "else:\n",
    "    print(f'You lost with {pontos_u} v.s. {pontos_mac}! Boo ):')\n"
   ]
  },
  {
   "cell_type": "code",
   "execution_count": 23,
   "metadata": {},
   "outputs": [
    {
     "data": {
      "text/plain": [
       "'You won!'"
      ]
     },
     "execution_count": 23,
     "metadata": {},
     "output_type": "execute_result"
    }
   ],
   "source": [
    "quem_ganha('s','p')"
   ]
  },
  {
   "cell_type": "code",
   "execution_count": 1,
   "metadata": {},
   "outputs": [],
   "source": [
    "j_user = input('Rock, paper or scissors? (r, p, s)')"
   ]
  },
  {
   "cell_type": "code",
   "execution_count": 16,
   "metadata": {},
   "outputs": [
    {
     "name": "stdout",
     "output_type": "stream",
     "text": [
      "r\n"
     ]
    }
   ],
   "source": [
    "j_mac = choice(['r','p','s'])\n",
    "print(j_mac)\n"
   ]
  }
 ],
 "metadata": {
  "kernelspec": {
   "display_name": "Python 3",
   "language": "python",
   "name": "python3"
  },
  "language_info": {
   "codemirror_mode": {
    "name": "ipython",
    "version": 3
   },
   "file_extension": ".py",
   "mimetype": "text/x-python",
   "name": "python",
   "nbconvert_exporter": "python",
   "pygments_lexer": "ipython3",
   "version": "3.11.5"
  },
  "orig_nbformat": 4
 },
 "nbformat": 4,
 "nbformat_minor": 2
}
