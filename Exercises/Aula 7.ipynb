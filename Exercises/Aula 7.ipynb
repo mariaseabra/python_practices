{
 "cells": [
  {
   "cell_type": "code",
   "execution_count": 9,
   "metadata": {},
   "outputs": [],
   "source": [
    "import openpyxl"
   ]
  },
  {
   "cell_type": "code",
   "execution_count": 10,
   "metadata": {},
   "outputs": [],
   "source": [
    "f_name = 'New_Excel.xlsx'"
   ]
  },
  {
   "cell_type": "code",
   "execution_count": 11,
   "metadata": {},
   "outputs": [],
   "source": [
    "wb = openpyxl.load_workbook(f_name)\n",
    "ws_notas = wb['Notas']\n"
   ]
  },
  {
   "cell_type": "code",
   "execution_count": 12,
   "metadata": {},
   "outputs": [],
   "source": [
    "# =SUMPRODUCT(E2:J2;Pesos!A2:F2)\n",
    "# Inserir esta fórmula do K2 ao K91\n",
    "\n",
    "num_linhas = ws_notas.max_row\n",
    "\n",
    "for i in range(2, num_linhas+1):\n",
    "    ws_notas[f'K{i}'] = f'=SUMPRODUCT(E{i}:J{i},Pesos!A2:F2)' #em vez de ; tenho de pôr , pq o openpyxl vai considerar os settings americanos e passá-los aos settings portugueses (que são ;)"
   ]
  },
  {
   "cell_type": "code",
   "execution_count": 13,
   "metadata": {},
   "outputs": [],
   "source": [
    "wb.save(f_name)\n",
    "wb.close()"
   ]
  }
 ],
 "metadata": {
  "kernelspec": {
   "display_name": "Python 3",
   "language": "python",
   "name": "python3"
  },
  "language_info": {
   "codemirror_mode": {
    "name": "ipython",
    "version": 3
   },
   "file_extension": ".py",
   "mimetype": "text/x-python",
   "name": "python",
   "nbconvert_exporter": "python",
   "pygments_lexer": "ipython3",
   "version": "3.11.7"
  },
  "orig_nbformat": 4
 },
 "nbformat": 4,
 "nbformat_minor": 2
}
