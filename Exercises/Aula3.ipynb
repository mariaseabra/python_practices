{
 "cells": [
  {
   "cell_type": "code",
   "execution_count": 4,
   "metadata": {},
   "outputs": [
    {
     "name": "stdout",
     "output_type": "stream",
     "text": [
      "A soma dos dígitos do número 21984937987598478972948729942 é 180\n"
     ]
    }
   ],
   "source": [
    "# Exercício 2\n",
    "# Write a program that will read an integer number and print a new integer\n",
    "# corresponding to the sum of all digits of the previous one\n",
    "\n",
    "# Retirar o último dígito (dividir por 10 e retirar o resto --> '%10')\n",
    "\n",
    "n = int(input('Qual o número?'))\n",
    "s = 0\n",
    "o = n\n",
    "while n > 0:\n",
    "    s = s + n%10\n",
    "    n = n//10 \n",
    "print(f'A soma dos dígitos do número {o} é {s}')"
   ]
  },
  {
   "cell_type": "code",
   "execution_count": 5,
   "metadata": {},
   "outputs": [
    {
     "name": "stdout",
     "output_type": "stream",
     "text": [
      "O número 1234 invertido é 4321.\n"
     ]
    }
   ],
   "source": [
    "#Exercício 3\n",
    "n = int(input('Qual o número?'))\n",
    "s = 0\n",
    "o = n\n",
    "while n > 0:\n",
    "    s = s*10 + n%10\n",
    "    n = n//10\n",
    "print(f'O número {o} invertido é {s}.')"
   ]
  },
  {
   "cell_type": "code",
   "execution_count": 6,
   "metadata": {},
   "outputs": [],
   "source": [
    "#Exercício 4\n",
    "\n",
    "my_l = []\n",
    "while True:\n",
    "    v = input('Qual o número a acrescentar ou \"q\" para terminar')\n",
    "    if v == 'q':\n",
    "        break\n",
    "    my_l.append(int(v))"
   ]
  },
  {
   "cell_type": "code",
   "execution_count": 7,
   "metadata": {},
   "outputs": [
    {
     "name": "stdout",
     "output_type": "stream",
     "text": [
      "[1, 5, 4, 8, 1, 2, 4, 7, 2, 5, 5]\n"
     ]
    }
   ],
   "source": [
    "print(my_l)"
   ]
  },
  {
   "cell_type": "code",
   "execution_count": 8,
   "metadata": {},
   "outputs": [
    {
     "name": "stdout",
     "output_type": "stream",
     "text": [
      "O número 1 existe em [1, 5, 4, 8, 1, 2, 4, 7, 2, 5, 5] 2 vezes.\n"
     ]
    }
   ],
   "source": [
    "t = int(input('Número a testar:'))\n",
    "n = my_l.count(t)\n",
    "if n == 0:\n",
    "    print(f'O número {t} não existe na lista {my_l}.')\n",
    "elif n == 1:\n",
    "    print(f'O número {t} existe em {my_l} uma única vez.')\n",
    "else:\n",
    "    print(f'O número {t} existe em {my_l} {n} vezes.')"
   ]
  },
  {
   "cell_type": "code",
   "execution_count": null,
   "metadata": {},
   "outputs": [],
   "source": []
  }
 ],
 "metadata": {
  "kernelspec": {
   "display_name": "Python 3",
   "language": "python",
   "name": "python3"
  },
  "language_info": {
   "codemirror_mode": {
    "name": "ipython",
    "version": 3
   },
   "file_extension": ".py",
   "mimetype": "text/x-python",
   "name": "python",
   "nbconvert_exporter": "python",
   "pygments_lexer": "ipython3",
   "version": "3.11.5"
  },
  "orig_nbformat": 4
 },
 "nbformat": 4,
 "nbformat_minor": 2
}
