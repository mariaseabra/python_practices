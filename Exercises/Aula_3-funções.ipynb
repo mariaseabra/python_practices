{
 "cells": [
  {
   "cell_type": "markdown",
   "metadata": {},
   "source": [
    "Funções\n",
    "\n",
    "def --> Cria novas fuções\n",
    "    def nome_função(a,b,c,d):"
   ]
  },
  {
   "cell_type": "code",
   "execution_count": 1,
   "metadata": {},
   "outputs": [],
   "source": [
    "def soma_dígitos (n):\n",
    "    s = 0\n",
    "    while n > 0:\n",
    "        s = s + n%10\n",
    "        n = n//10\n",
    "    return s "
   ]
  },
  {
   "cell_type": "code",
   "execution_count": 5,
   "metadata": {},
   "outputs": [
    {
     "name": "stdout",
     "output_type": "stream",
     "text": [
      "A soma dos dígitos de 789 é 24.\n"
     ]
    }
   ],
   "source": [
    "a = int(input('Qual o número'))\n",
    "print(f'A soma dos dígitos de {a} é {soma_dígitos(a)}.')"
   ]
  },
  {
   "cell_type": "code",
   "execution_count": 3,
   "metadata": {},
   "outputs": [],
   "source": [
    "def fatorial (x):\n",
    "    s = 1\n",
    "    for i in range(x,1,-1): # indexação é sempre a excluir o último. Com 0 multiplica por 1, mas não faz diferença pq 1 é o elemento neutro da multiplicação#\n",
    "        s = s * i\n",
    "    return s"
   ]
  },
  {
   "cell_type": "code",
   "execution_count": 6,
   "metadata": {},
   "outputs": [
    {
     "name": "stdout",
     "output_type": "stream",
     "text": [
      "355687428096000\n"
     ]
    }
   ],
   "source": [
    "print(fatorial(17))"
   ]
  },
  {
   "cell_type": "code",
   "execution_count": 7,
   "metadata": {},
   "outputs": [],
   "source": [
    "def fatorial2(n):\n",
    "    if n == 0:\n",
    "        return 1\n",
    "    return n * fatorial2(n-1)"
   ]
  },
  {
   "cell_type": "code",
   "execution_count": 11,
   "metadata": {},
   "outputs": [
    {
     "name": "stdout",
     "output_type": "stream",
     "text": [
      "3628800\n"
     ]
    }
   ],
   "source": [
    "print(fatorial2(10))"
   ]
  },
  {
   "cell_type": "code",
   "execution_count": 12,
   "metadata": {},
   "outputs": [],
   "source": [
    "def soma_dígitos2(n):\n",
    "    if n == 0:\n",
    "        return 0\n",
    "    return n%10 + soma_dígitos2(n//10)"
   ]
  },
  {
   "cell_type": "code",
   "execution_count": 13,
   "metadata": {},
   "outputs": [
    {
     "name": "stdout",
     "output_type": "stream",
     "text": [
      "45\n"
     ]
    }
   ],
   "source": [
    "print(soma_dígitos2(123456789))"
   ]
  }
 ],
 "metadata": {
  "kernelspec": {
   "display_name": "Python 3",
   "language": "python",
   "name": "python3"
  },
  "language_info": {
   "codemirror_mode": {
    "name": "ipython",
    "version": 3
   },
   "file_extension": ".py",
   "mimetype": "text/x-python",
   "name": "python",
   "nbconvert_exporter": "python",
   "pygments_lexer": "ipython3",
   "version": "3.11.5"
  },
  "orig_nbformat": 4
 },
 "nbformat": 4,
 "nbformat_minor": 2
}
