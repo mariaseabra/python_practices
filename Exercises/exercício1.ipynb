{
 "cells": [
  {
   "cell_type": "code",
   "execution_count": 1,
   "metadata": {},
   "outputs": [],
   "source": [
    "test1=float(input('insert your test 1 score: '))\n",
    "test2=float(input('insert your test 2 score: '))\n",
    "lab1= float(input('insert your lab 1 score: '))\n",
    "lab2= float(input('insert your lab 2 score: '))\n",
    "lab3= float(input('insert your lab 3 score: '))"
   ]
  },
  {
   "cell_type": "code",
   "execution_count": 2,
   "metadata": {},
   "outputs": [
    {
     "name": "stdout",
     "output_type": "stream",
     "text": [
      "12.0 14.56 17.4 12.3 9.7\n"
     ]
    }
   ],
   "source": [
    "print(test1,test2,lab1,lab2,lab3)"
   ]
  },
  {
   "cell_type": "code",
   "execution_count": 3,
   "metadata": {},
   "outputs": [],
   "source": [
    "melhor_lab= max(lab1,lab2,lab3)\n",
    "pior_lab= min(lab1,lab2,lab3)\n",
    "lab_medio= lab1+lab2+lab3-melhor_lab-pior_lab\n",
    "nota_final = test1*0.4+test2*0.2+melhor_lab*0.2+lab_medio*0.15+pior_lab*0.05"
   ]
  },
  {
   "cell_type": "code",
   "execution_count": 7,
   "metadata": {},
   "outputs": [
    {
     "name": "stdout",
     "output_type": "stream",
     "text": [
      "A nota final é #13.522000000000002#\n"
     ]
    }
   ],
   "source": [
    "print(f'A nota final é #{nota_final}#')"
   ]
  },
  {
   "cell_type": "code",
   "execution_count": 5,
   "metadata": {},
   "outputs": [
    {
     "name": "stdout",
     "output_type": "stream",
     "text": [
      "12.345\n"
     ]
    }
   ],
   "source": [
    "x = 12.345\n",
    "print(f'{x:.3f}')"
   ]
  }
 ],
 "metadata": {
  "kernelspec": {
   "display_name": "Python 3",
   "language": "python",
   "name": "python3"
  },
  "language_info": {
   "codemirror_mode": {
    "name": "ipython",
    "version": 3
   },
   "file_extension": ".py",
   "mimetype": "text/x-python",
   "name": "python",
   "nbconvert_exporter": "python",
   "pygments_lexer": "ipython3",
   "version": "3.11.5"
  },
  "orig_nbformat": 4
 },
 "nbformat": 4,
 "nbformat_minor": 2
}
