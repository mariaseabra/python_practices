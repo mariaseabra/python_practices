{
 "cells": [
  {
   "cell_type": "code",
   "execution_count": 1,
   "metadata": {},
   "outputs": [],
   "source": [
    "import random as rd"
   ]
  },
  {
   "cell_type": "code",
   "execution_count": 2,
   "metadata": {},
   "outputs": [
    {
     "name": "stdout",
     "output_type": "stream",
     "text": [
      "['fitoa', 'verei', 'velha', 'agita', 'cauda', 'soldo', 'chega', 'traje', 'fixar', 'avida', 'louco', 'tomar', 'patos', 'quase', 'ruins', 'valia', 'poema', 'roupa', 'pinho', 'dizem', 'lajes', 'arder', 'velho', 'gelar', 'feche', 'cruzo', 'risco', 'enjoa', 'temse', 'mudez', 'outra', 'certo', 'feras', 'vapor', 'banco', 'vinde', 'ponho', 'doida', 'moram', 'andar', 'luzem', 'cerca', 'logro', 'risos', 'andam', 'atiro', 'parta', 'corpo', 'ergam', 'meras', 'feito', 'corta', 'mediu', 'vendo', 'galas', 'trata', 'netos', 'letra', 'ideal', 'rolam', 'tarda', 'morri', 'tento', 'plana', 'levoa', 'multa', 'velam', 'ferir', 'exato', 'monta', 'exigi', 'cacho', 'dizia', 'idade', 'salvo', 'batem', 'cheia', 'nuvem', 'bispo', 'hegel', 'isola', 'vidas', 'garra', 'anjos', 'bomba', 'orlas', 'molho', 'macho', 'comeu', 'galos', 'fundo', 'doido', 'subir', 'casos', 'usura', 'prata', 'olhas', 'amote', 'disco', 'teive', 'proas', 'exata', 'falar', 'teima', 'longa', 'senil', 'sonha', 'atena', 'gesto', 'falou', 'calos', 'darse', 'canal', 'piano', 'carga', 'viame', 'crias', 'falem', 'dorso', 'parvo', 'limpa', 'jesus', 'cromo', 'largo', 'cento', 'pomba', 'cujos', 'lutam', 'apolo', 'duplo', 'miolo', 'valem', 'seduz', 'alado', 'estes', 'tente', 'lares', 'zumbe', 'belos', 'fazer', 'vivas', 'grado', 'reate', 'vilas', 'ligue', 'hotel', 'pudor', 'penam', 'calma', 'volta', 'vence', 'acudo', 'abrir', 'foime', 'curar', 'tecea', 'digna', 'acabo', 'acesa', 'mente', 'fardo', 'ceder', 'digam', 'fumei', 'finge', 'leque', 'afago', 'talho', 'peixe', 'tocam', 'lagoa', 'achas', 'chiar', 'verbo', 'lutar', 'achou', 'cujas', 'pedia', 'houve', 'rodas', 'volvo', 'nariz', 'resto', 'notei', 'riram', 'cesto', 'apita', 'choro', 'bifes', 'pusme', 'vista', 'unges', 'gozam', 'busca', 'falha', 'joias', 'odiar', 'raiva', 'tanto', 'forme', 'arras', 'esfia', 'afeto', 'filho', 'limos', 'rapaz', 'gosto', 'vemos', 'coisa', 'molha', 'tecem', 'finca', 'acima', 'dupla', 'ervas', 'diabo', 'chove', 'vulto', 'emite', 'torta', 'reles', 'colhi', 'punha', 'notoo', 'testa', 'viera', 'caixa', 'nobre', 'andou', 'capaz', 'mares', 'sofri', 'pelas', 'sedas', 'azula', 'sofro', 'dizme', 'canos', 'deixe', 'verba', 'estou', 'pasta', 'cunha', 'sofra', 'falta', 'lapso', 'saber', 'despe', 'colam', 'ousou', 'gozos', 'porte', 'tinir', 'torna', 'vibra', 'fonte', 'amada', 'quais', 'bicho', 'lidei', 'pluma', 'lorpa', 'mapas', 'puxar', 'vinho', 'pleno', 'vozes', 'ainda', 'tirar', 'saint', 'ditas', 'lidar', 'morro', 'nudez', 'cores', 'golpe', 'obras', 'ritos', 'lugar', 'folha', 'sobem', 'passo', 'deita', 'casto', 'prove', 'narre', 'entes', 'carta', 'vadio', 'corte', 'menos', 'abria', 'beber', 'basta', 'parte', 'porto', 'perde', 'curto', 'morna', 'sopro', 'todas', 'poder', 'causa', 'pasto', 'cisne', 'primo', 'quero', 'bolas', 'viajo', 'grave', 'tinha', 'chego', 'lemos', 'rasto', 'livre', 'viase', 'sesta', 'chave', 'ponta', 'cobre', 'sento', 'guias', 'arcas', 'rompe', 'digoo', 'amado', 'direi', 'baixo', 'pulsa', 'funda', 'plena', 'elfos', 'causo', 'vales', 'rolas', 'grupo', 'verse', 'musgo', 'romeu', 'meigo', 'julho', 'ouves', 'surda', 'secas', 'mitra', 'essas', 'dorme', 'levam', 'farei', 'cuspo', 'calha', 'bater', 'moles', 'besta', 'eleva', 'lunar', 'curoa', 'senta', 'matar', 'negue', 'salas', 'frete', 'morar', 'sorte', 'chora', 'tosco', 'matei', 'enche', 'terei', 'terme', 'doume', 'depor', 'puros', 'doura', 'gente', 'assim', 'teias', 'hiper', 'funde', 'ardem', 'vivam', 'curta', 'amiel', 'mexer', 'penas', 'usada', 'total', 'alada', 'pouco', 'entre', 'gozoa', 'gordo', 'cofre', 'gosta', 'coroa', 'clima', 'forma', 'todos', 'achar', 'morde', 'luzir', 'donos', 'nimba', 'palco', 'lavar', 'campo', 'novos', 'exame', 'ponto', 'nexos', 'cessa', 'gotas', 'viuse', 'rezar', 'adeus', 'mudas', 'doome', 'mania', 'cuida', 'atado', 'lance', 'curvo', 'vazia', 'lassa', 'faria', 'gemer', 'noite', 'pense', 'plano', 'nihil', 'ocaso', 'grand', 'usual', 'morno', 'jovem', 'tinto', 'alaga', 'lagos', 'casas', 'durar', 'rubro', 'lesma', 'jacto', 'latas', 'guizo', 'graus', 'falam', 'canta', 'ataca', 'mareo', 'errei', 'fazes', 'viram', 'borda', 'grega', 'fulva', 'velas', 'durmo', 'farto', 'teria', 'ideia', 'pisai', 'padre', 'oeste', 'criei', 'desde', 'educo', 'inane', 'linha', 'tempo', 'calor', 'caber', 'comes', 'parar', 'culpa', 'poupa', 'torno', 'pardo', 'coevo', 'rampa', 'tiver', 'navio', 'jurou', 'armas', 'mosca', 'exige', 'ritmo', 'canto', 'comum', 'sinal', 'drama', 'nesta', 'negra', 'dogma', 'natal', 'remos', 'chato', 'chuva', 'bruta', 'molas', 'nesse', 'metro', 'pajem', 'frase', 'junta', 'forro', 'perca', 'saime', 'negam', 'mudem', 'carro', 'genro', 'arfar', 'posta', 'anula', 'daqui', 'livra', 'visos', 'cenas', 'estio', 'pesam', 'escoa', 'papel', 'poisa', 'igual', 'tocar', 'ranho', 'ondas', 'lidas', 'sabia', 'gasto', 'aviso', 'chefe', 'rirem', 'posse', 'fundi', 'pulha', 'vaise', 'vindo', 'podre', 'louro', 'ossos', 'soava', 'justo', 'botas', 'reduz', 'manda', 'apraz', 'mudei', 'porco', 'falsa', 'acaso', 'frios', 'farol', 'tomou', 'cesse', 'afaga', 'corro', 'trapo', 'viver', 'avaro', 'fugir', 'baixa', 'grita', 'lados', 'formo', 'nadas', 'texto', 'magia', 'jurar', 'harpa', 'abano', 'apego', 'terem', 'gozei', 'homem', 'vinda', 'fumam', 'draia', 'luzes', 'apoio', 'livro', 'tipos', 'casar', 'visto', 'verso', 'fadas', 'asilo', 'buril', 'velar', 'maria', 'notam', 'vidro', 'noiva', 'prece', 'ousar', 'certa', 'alvar', 'sabor', 'lenta', 'linho', 'seres', 'julga', 'vasto', 'neles', 'china', 'vigor', 'peter', 'esses', 'sonda', 'nossa', 'circo', 'notar', 'matou', 'autor', 'fumos', 'olhar', 'dispo', 'santa', 'gasta', 'leito', 'tecer', 'fazem', 'ousam', 'cabos', 'ligar', 'vemme', 'treme', 'perda', 'mundo', 'muito', 'mofas', 'sirva', 'rotas', 'carne', 'ouvem', 'nessa', 'narra', 'favor', 'veste', 'sujas', 'pedra', 'valha', 'dizse', 'traga', 'vosso', 'prumo', 'pares', 'tolda', 'magra', 'vejoa', 'lendo', 'nomes', 'sofre', 'nulos', 'batia', 'tecia', 'fazia', 'conto', 'repor', 'olhes', 'lebre', 'torto', 'toque', 'ouvir', 'abuso', 'naipe', 'tanta', 'sacos', 'leves', 'achei', 'trair', 'vagar', 'sujos', 'limpo', 'prova', 'pesar', 'tenda', 'fizer', 'vossa', 'deste', 'priva', 'torne', 'punge', 'feliz', 'crime', 'tocou', 'amiga', 'rosto', 'vento', 'fraca', 'levei', 'ordem', 'dessa', 'criar', 'fluxo', 'prego', 'trago', 'morre', 'falhe', 'almas', 'rasco', 'pagar', 'cobra', 'falir', 'supor', 'parti', 'idear', 'ergue', 'foste', 'citar', 'ambos', 'duros', 'pisam', 'vasos', 'regra', 'acusa', 'amais', 'olhei', 'creio', 'podem', 'feroz', 'final', 'verte', 'cheio', 'fitam', 'hinos', 'algas', 'gatos', 'ontem', 'erros', 'beijo', 'hirto', 'atava', 'outro', 'deume', 'jeito', 'voume', 'troar', 'jogar', 'subia', 'fomos', 'facto', 'venho', 'olhos', 'pedro', 'usted', 'rugas', 'enoja', 'neste', 'tirou', 'perdi', 'levou', 'durei', 'janta', 'mando', 'malha', 'terra', 'vagas', 'muros', 'donde', 'somos', 'monte', 'pasmo', 'digno', 'raiam', 'viril', 'diria', 'dobre', 'esgar', 'creia', 'rente', 'tomam', 'alves', 'visse', 'aceno', 'estar', 'egeus', 'manso', 'silvo', 'sopra', 'desci', 'lento', 'mesma', 'abram', 'pesou', 'agora', 'serve', 'orlar', 'resta', 'erram', 'moeda', 'fogem', 'julgo', 'caves', 'comer', 'lerei', 'morta', 'tendo', 'mudam', 'citam', 'venci', 'belas', 'colar', 'deles', 'reage', 'bebeu', 'evoco', 'justa', 'tosca', 'muita', 'dores', 'local', 'raras', 'perco', 'desta', 'major', 'solas', 'panos', 'poros', 'fique', 'posto', 'tenta', 'virou', 'rompi', 'magos', 'canso', 'bocas', 'ganho', 'fitar', 'deram', 'exijo', 'culto', 'minha', 'forte', 'monge', 'palha', 'travo', 'vinci', 'sujar', 'fruto', 'clara', 'morte', 'pomos', 'devem', 'bolsa', 'cinco', 'perto', 'trato', 'morra', 'devia', 'reina', 'cause', 'prosa', 'volto', 'geada', 'reais', 'votos', 'criam', 'varre', 'bruma', 'boiam', 'sabem', 'rotos', 'grata', 'ancas', 'falso', 'ninho', 'erijo', 'febre', 'seria', 'nosso', 'errar', 'bateu', 'deixo', 'norma', 'cozer', 'solar', 'troca', 'novas', 'secar', 'valor', 'estas', 'fixei', 'findo', 'esvai', 'termo', 'dizer', 'fatal', 'afoga', 'tende', 'colho', 'ferem', 'querr', 'vasta', 'reims', 'cargo', 'dista', 'pensa', 'altas', 'verme', 'salva', 'mitos', 'rasos', 'barba', 'sonho', 'tenho', 'nisto', 'dares', 'fezse', 'senti', 'praia', 'tenha', 'meias', 'farda', 'linda', 'dante', 'dadas', 'pondo', 'blusa', 'longo', 'nasci', 'avara', 'rindo', 'segue', 'tiram', 'abrem', 'mesmo', 'algum', 'apaga', 'sorri', 'viveu', 'nulas', 'viaja', 'vinco', 'dever', 'doira', 'arena', 'falas', 'baque', 'ajuda', 'terse', 'disse', 'gozoo', 'voraz', 'horas', 'podia', 'damos', 'mesas', 'enchi', 'magno', 'vejoo', 'serte', 'larga', 'droga', 'swift', 'ambas', 'grito', 'disso', 'fazte', 'possa', 'posso', 'altos', 'levar', 'raros', 'ornar', 'cinto', 'banda', 'heine', 'sinos', 'vivos', 'lista', 'podes', 'vagos', 'parei', 'foise', 'feita', 'queda', 'segui', 'tinta', 'jaula', 'ativo', 'curso', 'haver', 'sobre', 'negro', 'rasga', 'furta', 'custa', 'reino', 'fumar', 'vende', 'creem', 'zebra', 'ouviu', 'breve', 'torvo', 'trono', 'mudar', 'casal', 'pedir', 'preta', 'meros', 'legou', 'lojas', 'poeta', 'nelas', 'senda', 'apoia', 'teres', 'fecha', 'solta', 'junto', 'magro', 'maior', 'firma', 'mudou', 'prole', 'mogno', 'dormi', 'preso', 'cunho', 'torre', 'amplo', 'soara', 'cansa', 'child', 'leste', 'solto', 'longe', 'nunca', 'peito', 'nasce', 'acaba', 'disto', 'porta', 'relva', 'tarde', 'coada', 'pingo', 'comia', 'mover', 'seios', 'tremo', 'sejam', 'sinto', 'legal', 'corre', 'finjo', 'entra', 'cioso', 'darme', 'ombro', 'auras', 'duram', 'pegar', 'rasgo', 'cruza', 'vezes', 'misto', 'pouca', 'criou', 'dedos', 'narro', 'ergui', 'volvi', 'fosse', 'trajo', 'louca', 'sabes', 'rosas', 'serme', 'canse', 'saldo', 'ficar', 'cegos', 'desse', 'treva', 'chame', 'preto', 'amara', 'santo', 'virar', 'males', 'palmo', 'chapa', 'dandy', 'mudos', 'meter', 'irmos', 'negar', 'sousa', 'ilhas', 'modos', 'barro', 'lunch', 'anica', 'olhoo', 'finda', 'cinza', 'medos', 'balia', 'canga', 'anima', 'saiba', 'vinha', 'graxa', 'xaile', 'armam', 'verde', 'falho', 'surdo', 'penso', 'ousei', 'tenaz', 'magoo', 'pecar', 'soube', 'veias', 'massa', 'evoca', 'ponte', 'jogos', 'falte', 'manto', 'logra', 'valeu', 'turvo', 'buxos', 'meses', 'cruel', 'actos', 'deixa', 'olham', 'rezam', 'traia', 'bruto', 'vendi', 'ficam', 'vejam', 'pesos', 'sinta', 'ampla', 'baile', 'norte', 'traem', 'vinte', 'tidas', 'raios', 'brisa', 'culpo', 'azuis', 'chama', 'dobro', 'fingi', 'daria', 'surge', 'missa', 'supus', 'grato', 'temme', 'regem', 'vital', 'plebe', 'geral', 'ouvia', 'honra', 'paira', 'pompa', 'prato', 'valer', 'vigny', 'ativa', 'acabe', 'antes', 'cimos', 'fosco', 'serei', 'placa', 'atual', 'caras', 'falaz', 'atrai', 'loura', 'deito', 'aceso', 'apelo', 'lajem', 'punho', 'subiu', 'meios', 'somas', 'busco', 'barra', 'choca', 'conta', 'viaje', 'morto', 'sendo', 'sonhe', 'redor', 'meada', 'pobre', 'senso', 'aonde', 'farta', 'param', 'faces', 'balde', 'moral', 'ficou', 'vivia', 'presa', 'gelam', 'desce', 'ocupa', 'festa', 'artes', 'entro', 'pecca', 'ditos', 'gozar', 'servo', 'foras', 'pinga', 'vivem', 'enfim', 'ganas', 'passe', 'conde', 'havia', 'serem', 'banal', 'piada', 'sente', 'humor', 'fosso', 'aroma', 'vazio', 'ferro', 'coava', 'dando', 'odeio', 'temos', 'barco', 'areia', 'persa', 'amigo', 'atola', 'abona', 'fazme', 'firme', 'delas', 'cerro', 'lindo', 'viria', 'clube', 'altar', 'rumor', 'sobra', 'fecho', 'rodou', 'foram', 'notas', 'lente', 'suave', 'filha', 'pauta', 'toada', 'fraco', 'aguda', 'bordo', 'dados', 'paris', 'orgia', 'ungem', 'calmo', 'beira', 'abril', 'menor', 'deusa', 'pousa', 'claro', 'vamos', 'casou', 'venha', 'vimos', 'sejas', 'passa', 'curva', 'pelos', 'abriu', 'chamo', 'nisso', 'sogro', 'raiar', 'forem', 'ramos', 'darem', 'obter', 'abate', 'rombo']\n"
     ]
    }
   ],
   "source": [
    "#transformar o documento .txt em lista sem ter de pôr vírgula manualmente depois de cada palavra\n",
    "with open('lista_palavras.txt', 'r') as file:\n",
    "    lista_palavras = file.read().splitlines()\n",
    "print(lista_palavras)"
   ]
  },
  {
   "cell_type": "code",
   "execution_count": 3,
   "metadata": {},
   "outputs": [],
   "source": [
    "# Função feedback em cores\n",
    "def feedback(palavra_palpite,palavra_alvo):\n",
    "    feedback = ''\n",
    "    for i in range (len(palavra_palpite)):\n",
    "        if palavra_palpite[i] == palavra_alvo[i]:\n",
    "            feedback += '\\033[1;32m' + palavra_palpite[i] + '\\033[0m'\n",
    "        elif palavra_palpite[i] in palavra_alvo:\n",
    "            feedback += '\\033[1;33m' + palavra_palpite[i] + '\\033[0m'\n",
    "        else:\n",
    "            feedback += '\\033[1;37m' + palavra_palpite[i] + '\\033[0m'\n",
    "    return feedback"
   ]
  },
  {
   "cell_type": "code",
   "execution_count": 6,
   "metadata": {},
   "outputs": [],
   "source": [
    "#função de jogar max tentativas\n",
    "def joga(palavra_alvo):\n",
    "    max_tentativas = 6\n",
    "    nbrtentativas = 1\n",
    "    acertou = False\n",
    "    \n",
    "    while nbrtentativas <= max_tentativas and not acertou:\n",
    "        palavra_palpite = input('Qual a palavra? (Click \"x\" to end):')\n",
    "        print(\"Tentativa:\", nbrtentativas)\n",
    "        if palavra_palpite =='x':\n",
    "            print('Jogo cancelado')\n",
    "            break\n",
    "        elif len(palavra_alvo) != len(palavra_palpite):\n",
    "            print('Palavra inválida. Escreva outra para tentar novamente')\n",
    "        elif palavra_palpite == palavra_alvo:\n",
    "            print(f'Parabéns! Ganhou o jogo por ter acertado a palavra, \\\"{palavra_alvo}\\\"!')\n",
    "            acertou = True\n",
    "        else:      #função de feedback\n",
    "            resultado = feedback(palavra_palpite,palavra_alvo)\n",
    "            print(resultado)\n",
    "            nbrtentativas = nbrtentativas + 1\n",
    "    if nbrtentativas > max_tentativas:\n",
    "        print(f'Perdeu por falta de mais tentativas! A palavra correta era \\\"{palavra_alvo}\\\". \\nQuer jogar novamente? ')"
   ]
  },
  {
   "cell_type": "code",
   "execution_count": 8,
   "metadata": {},
   "outputs": [
    {
     "name": "stdout",
     "output_type": "stream",
     "text": [
      "Tentativa: 1\n",
      "\u001b[1;37mo\u001b[0m\u001b[1;37ml\u001b[0m\u001b[1;37mh\u001b[0m\u001b[1;37mo\u001b[0m\u001b[1;33ms\u001b[0m\n",
      "Tentativa: 2\n",
      "\u001b[1;37md\u001b[0m\u001b[1;32me\u001b[0m\u001b[1;37md\u001b[0m\u001b[1;37mo\u001b[0m\u001b[1;33ms\u001b[0m\n",
      "Tentativa: 3\n",
      "\u001b[1;32ms\u001b[0m\u001b[1;32me\u001b[0m\u001b[1;37mt\u001b[0m\u001b[1;37ma\u001b[0m\u001b[1;33ms\u001b[0m\n",
      "Tentativa: 4\n",
      "\u001b[1;32ms\u001b[0m\u001b[1;32me\u001b[0m\u001b[1;37mc\u001b[0m\u001b[1;37mo\u001b[0m\u001b[1;33mu\u001b[0m\n",
      "Tentativa: 5\n",
      "\u001b[1;32ms\u001b[0m\u001b[1;32me\u001b[0m\u001b[1;37mi\u001b[0m\u001b[1;37mf\u001b[0m\u001b[1;37ma\u001b[0m\n",
      "Tentativa: 6\n",
      "\u001b[1;32ms\u001b[0m\u001b[1;32me\u001b[0m\u001b[1;37mv\u001b[0m\u001b[1;32mu\u001b[0m\u001b[1;37ma\u001b[0m\n",
      "Perdeu por falta de mais tentativas! A palavra correta era \"segue\". \n",
      "Quer jogar novamente? \n",
      "Tentativa: 1\n",
      "\u001b[1;37mc\u001b[0m\u001b[1;37mu\u001b[0m\u001b[1;37ms\u001b[0m\u001b[1;33mp\u001b[0m\u001b[1;37mo\u001b[0m\n",
      "Tentativa: 2\n",
      "\u001b[1;32mp\u001b[0m\u001b[1;37mo\u001b[0m\u001b[1;37me\u001b[0m\u001b[1;37mt\u001b[0m\u001b[1;32ma\u001b[0m\n",
      "Tentativa: 3\n",
      "\u001b[1;32mp\u001b[0m\u001b[1;33ma\u001b[0m\u001b[1;37ml\u001b[0m\u001b[1;37mm\u001b[0m\u001b[1;32ma\u001b[0m\n",
      "Tentativa: 4\n",
      "\u001b[1;32mp\u001b[0m\u001b[1;33mi\u001b[0m\u001b[1;37ml\u001b[0m\u001b[1;37mh\u001b[0m\u001b[1;32ma\u001b[0m\n",
      "Tentativa: 5\n",
      "\u001b[1;32mp\u001b[0m\u001b[1;37me\u001b[0m\u001b[1;33mi\u001b[0m\u001b[1;37md\u001b[0m\u001b[1;32ma\u001b[0m\n",
      "Tentativa: 6\n",
      "Parabéns! Ganhou o jogo por ter acertado a palavra, \"praia\"!\n",
      "Jogo terminado\n"
     ]
    }
   ],
   "source": [
    "#ciclo de jogo, com replay\n",
    "        \n",
    "while True:\n",
    "    palavra_alvo = rd.choice(lista_palavras)\n",
    "    joga(palavra_alvo)\n",
    "\n",
    "    replay = input('Deseja jogar novamente? (\"sim\" para jogar novamente, ou qualquer outra coisa para sair): ')\n",
    "    if replay != 'sim':\n",
    "        print('Jogo terminado')\n",
    "        break"
   ]
  }
 ],
 "metadata": {
  "kernelspec": {
   "display_name": "Python 3",
   "language": "python",
   "name": "python3"
  },
  "language_info": {
   "codemirror_mode": {
    "name": "ipython",
    "version": 3
   },
   "file_extension": ".py",
   "mimetype": "text/x-python",
   "name": "python",
   "nbconvert_exporter": "python",
   "pygments_lexer": "ipython3",
   "version": "3.11.7"
  }
 },
 "nbformat": 4,
 "nbformat_minor": 2
}
